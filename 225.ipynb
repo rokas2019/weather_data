{
 "cells": [
  {
   "cell_type": "markdown",
   "id": "a93271ca-b971-43e9-99fd-8317ffb0fa63",
   "metadata": {},
   "source": [
    "## About this Part\n\nCongratulations! You've reached the final Part of this Sprint.\nThis Part serves as an integrative experience, allowing you to apply the knowledge and skills acquired in this and previous Sprints.\n\nAs the culmination of this Sprint, you'll construct a system that routinely retrieves weather data and stores it in a Relational Database Management System (RDBMS).\n\nSprint projects often necessitate the use of skills, tools, and techniques not explicitly covered during the Sprint.\nThis is intentional, as true expertise stems from the ability to recognize the skills needed to solve a given problem and to acquire these skills as necessary.\n\nRemember, perfection isn't expected at this stage.\nYou will continuously hone your skills and have ample opportunities to apply them in future projects.\nFor now, focus on leveraging what you've learned and giving it your best effort!\n\n*Note:* [advice on building your portfolio](https://turingcollege.atlassian.net/wiki/spaces/DLG/pages/1002307695/Portfolio+Items)\n\n## Context\n\nYou've recently joined a non-profit organization aimed at creating a weather simulator to better comprehend global warming effects.\nYour team consists of scientists eager to validate the weather simulator's results, which they've recently finished developing.\n\nThe initial results require hourly weather data from the twenty largest cities in Europe, stored in a SQL database table.\nThe data will then be connected to the simulator.\nThe simulator predicts temperature (in Celsius) and generates weather conditions descriptions like rainy, clear, etc.\nBoth aspects need validation.\n\nBecause of the simulator's nature, acquiring the data promptly and maintaining all historical data is crucial.\nYour solution should be scalable to accommodate an increasing number of cities worldwide in the future.\n\nFollowing several refinement and planning meetings, you've agreed to construct a system that queries a weather API (such as OpenWeatherMap API) every hour.\nThe results (temperature and description) are to be stored in an RDBMS of your choice.\nGiven the simulator's latency importance, you decided to use a suitable concurrent method (threads, processes or co-routines) to fetch the data. You are expected to justify your choice to the wider engineering team.\n\nThe simulator also requires additional analytical information:\n\n- Maximum, minimum, and standard deviation of temperatures per country and city for today, yesterday, current week, and last seven days.\n- Indicate the cities with the highest or lowest temperature for each hour, day, and week.\n- The number of times (hours) it rained in the last day and week.\n\nFor all scheduling tasks, you'll use cron, as more advanced orchestrators (e.g., Airflow, Dagster, Prefect, etc.) are not permitted by the SRE team.\n\nNote: Depending on the weather API you use, you might not access historical data. If that's the case, add generated (fake) data to demonstrate your solution's functionality.\n\n### Twenty largest cities in Europe\n\n1. Istanbul, Turkey: 10,241,510\n1. London, United Kingdom: 8,799,800\n1. Saint Petersburg, Russia: 5,598,486\n1. Berlin, Germany: 3,850,809\n1. Madrid, Spain: 3,305,408\n1. Kyiv, Ukraine: 2,952,301\n1. Rome, Italy: 2,749,031\n1. Bucharest, Romania: 2,161,347\n1. Paris, France: 2,102,650​​\n1. Minsk, Belarus: 1,996,553\n1. Vienna, Austria: 1,982,442\n1. Warsaw, Poland: 1,862,345\n1. Hamburg, Germany: 1,853,935\n1. Budapest, Hungary: 1,706,851\n1. Belgrade, Serbia: 1,688,667\n1. Barcelona, Spain: 1,636,732\n1. Munich, Germany: 1,487,708\n1. Kharkiv, Ukraine: 1,421,225\n1. Milan, Italy: 1,349,930\n\nSource: Wikipedia\n\n## Objectives for this Part\n\n- Practice scheduling with cron.\n- Gain hands-on experience with Python threads, coroutines, and processes.\n- Practice utilizing SQL views and analytical functions.\n- Practice RDBMS administration.\n\n## Requirements\n\n- Your solution should encompass the functionality outlined in the Context section.\n- Offer insights on how your analysis could be improved.\n\nNote: You might have noticed that the requirements are less specific this time. This is intentional.\n\n## Bonus\n\n- Benchmark at least three concurrent methods for data retrieval (coroutines, threads, and processes) and compare their performance. Ensure, it is easy to switch between these methods for the weather data retrieval.\n- Implement regular backups for the database, with backups made every hour, storing the last twenty-four backups.\n- Implement logging for your system to be able to get the information whilst the task is running and debug, in case issues happen. For that you could use Python's `logging` library.\n- Implement a monitoring solution that visualizes the metrics that represent the health of your database.\n\n## Evaluation Criteria\n\n- Adherence to the requirements. How well did you meet the requirements?\n- Code quality. Was your code well-structured? Did you use the appropriate levels of abstraction? Did you remove commented-out and unused code?\n- System design. Did your solution use suitable technologies, tools, software architecture, and algorithms?\n- Presentation quality. How comprehensive is your presentation, and how well are you able to explain your solution to the target audience?\n- Conceptual understanding. How well do you know the concepts covered in this and previous Sprints?\n\n## Project Review\n\nDuring your project presentation, assume that your audience is a data scientist involved in building the machine learning model for your team. They are expected to have strong data science skills and decent software engineering knowledge - they will understand technical jargon but may not notice areas for improvement or question your decisions. Since they are familiar with the problem, avoid explaining trivial concepts or simple code snippets; focus on technological and design choices, as well as the end-user functionality of your solution.\n\nDuring the project review, you might be asked questions to test your understanding of the covered topics, such as:\n\n- What is the purpose of cron, and how are cron jobs written?\n- What types of joins are available in SQL, and how do they differ?\n- What are the most common functions for working with dates in SQL?\n- What is a coroutine, what are its uses, and why do coroutines need to be primed?\n- Is the use of try-except-else considered good practice in Python?\n\nIMPORTANT: during the project review, you will also be asked to solve an exercise using Python.\n"
   ]
  },
  {
   "cell_type": "markdown",
   "id": "b720e56b-ff95-48b6-9a22-a3c6e429fa3d",
   "metadata": {},
   "source": [
    "## General Project Review Guidelines\n\nFor an in-depth explanation about how project reviews work at Turing College, please read [this doc](https://turingcollege.atlassian.net/wiki/spaces/DLG/pages/537395951/Peer+expert+reviews+corrections).\n"
   ]
  }
 ],
 "metadata": {
  "kernelspec": {
   "display_name": "Python 3",
   "language": "python",
   "name": "python3"
  },
  "language_info": {
   "codemirror_mode": {
    "name": "ipython",
    "version": 3
   },
   "file_extension": ".py",
   "mimetype": "text/x-python",
   "name": "python",
   "nbconvert_exporter": "python",
   "pygments_lexer": "ipython3",
   "version": "3.9.5"
  }
 },
 "nbformat": 4,
 "nbformat_minor": 5
}
